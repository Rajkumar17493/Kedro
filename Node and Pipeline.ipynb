{
 "cells": [
  {
   "cell_type": "markdown",
   "id": "07098d63",
   "metadata": {},
   "source": [
    "### Node"
   ]
  },
  {
   "cell_type": "code",
   "execution_count": 1,
   "id": "68553192",
   "metadata": {},
   "outputs": [],
   "source": [
    "from kedro.pipeline import node\n",
    "from kedro.pipeline.modular_pipeline import pipeline"
   ]
  },
  {
   "cell_type": "code",
   "execution_count": 2,
   "id": "20593646",
   "metadata": {},
   "outputs": [],
   "source": [
    "def add(x,y):\n",
    "    return x+y"
   ]
  },
  {
   "cell_type": "code",
   "execution_count": 3,
   "id": "4a03d631",
   "metadata": {},
   "outputs": [
    {
     "name": "stdout",
     "output_type": "stream",
     "text": [
      "adding_x_and_y: add([x,y]) -> [sum]\n"
     ]
    },
    {
     "data": {
      "text/plain": [
       "Node(add, ['x', 'y'], 'sum', 'adding_x_and_y')"
      ]
     },
     "execution_count": 3,
     "metadata": {},
     "output_type": "execute_result"
    }
   ],
   "source": [
    "add_node = node(func=add,inputs=['x','y'],outputs='sum',name='adding_x_and_y')\n",
    "print(add_node)\n",
    "add_node"
   ]
  },
  {
   "cell_type": "markdown",
   "id": "db36f611",
   "metadata": {},
   "source": [
    "### Pipeline"
   ]
  },
  {
   "cell_type": "code",
   "execution_count": 4,
   "id": "c69caacc",
   "metadata": {},
   "outputs": [],
   "source": [
    "def mean(xs,n):\n",
    "    return sum(xs)/n"
   ]
  },
  {
   "cell_type": "code",
   "execution_count": 5,
   "id": "6d627213",
   "metadata": {},
   "outputs": [],
   "source": [
    "def mean_sos(xs,n):\n",
    "    return sum(x**2 for x in xs)/n"
   ]
  },
  {
   "cell_type": "code",
   "execution_count": 6,
   "id": "c0405bf8",
   "metadata": {},
   "outputs": [],
   "source": [
    "def variance(m,m2):\n",
    "    return m2-m*m"
   ]
  },
  {
   "cell_type": "code",
   "execution_count": 7,
   "id": "cae707fa",
   "metadata": {},
   "outputs": [
    {
     "name": "stdout",
     "output_type": "stream",
     "text": [
      "Pipeline([\n",
      "Node(len, 'xs', 'n', 'length'),\n",
      "Node(mean_sos, ['xs', 'n'], 'm2', 'mean_square'),\n",
      "Node(mean, ['xs', 'n'], 'm', 'mean_value'),\n",
      "Node(variance, ['m', 'm2'], 'v', 'variance')\n",
      "])\n"
     ]
    }
   ],
   "source": [
    "variance_pipeline = pipeline(\n",
    "    [\n",
    "        node(len,'xs','n',name='length'),\n",
    "        node(mean,['xs','n'],'m',name='mean_value'),\n",
    "        node(mean_sos,['xs','n'],'m2',name='mean_square'),\n",
    "        node(variance,['m','m2'],'v',name='variance')\n",
    "    \n",
    "    ]\n",
    ")\n",
    "print(variance_pipeline)"
   ]
  },
  {
   "cell_type": "code",
   "execution_count": 8,
   "id": "38b63fca",
   "metadata": {},
   "outputs": [
    {
     "name": "stdout",
     "output_type": "stream",
     "text": [
      "#### Pipeline execution order ####\n",
      "Inputs: xs\n",
      "\n",
      "length\n",
      "mean_square\n",
      "mean_value\n",
      "variance\n",
      "\n",
      "Outputs: v\n",
      "##################################\n"
     ]
    }
   ],
   "source": [
    "print(variance_pipeline.describe())"
   ]
  },
  {
   "cell_type": "code",
   "execution_count": 9,
   "id": "385aedee",
   "metadata": {},
   "outputs": [
    {
     "name": "stdout",
     "output_type": "stream",
     "text": [
      "#### Pipeline execution order ####\n",
      "Inputs: xs\n",
      "\n",
      "len([xs]) -> [n]\n",
      "mean([xs,n]) -> [m]\n",
      "mean_sos([xs,n]) -> [m2]\n",
      "variance([m,m2]) -> [v]\n",
      "print([v]) -> None\n",
      "\n",
      "Outputs: None\n",
      "##################################\n"
     ]
    }
   ],
   "source": [
    "pipeline_de = pipeline([node(len,'xs','n'),node(mean,['xs','n'],'m')])\n",
    "pipeline_ds = pipeline([node(mean_sos,['xs','n'],'m2'),node(variance,['m','m2'],'v')])\n",
    "last_node   = node(print,'v',None)\n",
    "\n",
    "consolidated_pipeline = pipeline([pipeline_de,pipeline_ds,last_node])\n",
    "print(consolidated_pipeline.describe())"
   ]
  },
  {
   "cell_type": "code",
   "execution_count": 10,
   "id": "f276c581",
   "metadata": {},
   "outputs": [
    {
     "data": {
      "text/plain": [
       "[Node(len, 'xs', 'n', None),\n",
       " Node(mean, ['xs', 'n'], 'm', None),\n",
       " Node(mean_sos, ['xs', 'n'], 'm2', None),\n",
       " Node(variance, ['m', 'm2'], 'v', None),\n",
       " Node(print, 'v', None, None)]"
      ]
     },
     "execution_count": 10,
     "metadata": {},
     "output_type": "execute_result"
    }
   ],
   "source": [
    "nodes=consolidated_pipeline.nodes\n",
    "nodes"
   ]
  },
  {
   "cell_type": "code",
   "execution_count": 11,
   "id": "d9bd9372",
   "metadata": {},
   "outputs": [
    {
     "data": {
      "text/plain": [
       "['xs']"
      ]
     },
     "execution_count": 11,
     "metadata": {},
     "output_type": "execute_result"
    }
   ],
   "source": [
    "nodes[0].inputs"
   ]
  },
  {
   "cell_type": "code",
   "execution_count": 12,
   "id": "390bd9be",
   "metadata": {},
   "outputs": [
    {
     "data": {
      "text/plain": [
       "['n']"
      ]
     },
     "execution_count": 12,
     "metadata": {},
     "output_type": "execute_result"
    }
   ],
   "source": [
    "nodes[0].outputs"
   ]
  },
  {
   "cell_type": "code",
   "execution_count": 13,
   "id": "be4cbba7",
   "metadata": {
    "scrolled": true
   },
   "outputs": [
    {
     "name": "stdout",
     "output_type": "stream",
     "text": [
      "Invalid Node definition: first argument must be a function, not 'NoneType'.\n",
      "Format should be: node(function, inputs, outputs)\n"
     ]
    }
   ],
   "source": [
    "try:\n",
    "    pipeline(node(None,None,None))\n",
    "except Exception as e:\n",
    "    print(e)"
   ]
  },
  {
   "cell_type": "code",
   "execution_count": 14,
   "id": "257ca27e",
   "metadata": {},
   "outputs": [
    {
     "name": "stdout",
     "output_type": "stream",
     "text": [
      "Invalid Node definition: it must have some 'inputs' or 'outputs'.\n",
      "Format should be: node(function, inputs, outputs)\n"
     ]
    }
   ],
   "source": [
    "try:\n",
    "    pipeline(node(sum,None,None))\n",
    "except Exception as e:\n",
    "    print(e)"
   ]
  },
  {
   "cell_type": "code",
   "execution_count": 15,
   "id": "4fbb1b35",
   "metadata": {},
   "outputs": [
    {
     "name": "stdout",
     "output_type": "stream",
     "text": [
      "Circular dependencies exist among these items: ['<lambda>([x]) -> [y]', '<lambda>([y]) -> [x]']\n"
     ]
    }
   ],
   "source": [
    "try:\n",
    "    pipeline(\n",
    "    [\n",
    "        node(lambda x : x+1,'x','y'),\n",
    "        node(lambda y : y-1,'y','x')\n",
    "    ])\n",
    "except Exception as e:\n",
    "    print(e)"
   ]
  },
  {
   "cell_type": "code",
   "execution_count": 16,
   "id": "e4b14149",
   "metadata": {},
   "outputs": [
    {
     "name": "stdout",
     "output_type": "stream",
     "text": [
      "#### Pipeline execution order ####\n",
      "Inputs: frozen_veg\n",
      "\n",
      "defrost([frozen_veg]) -> [veg]\n",
      "grill([veg]) -> [food]\n",
      "eat([food]) -> None\n",
      "\n",
      "Outputs: None\n",
      "##################################\n"
     ]
    }
   ],
   "source": [
    "def defrost(x):\n",
    "    return y\n",
    "def grill(y):\n",
    "    return z\n",
    "def eat(a):\n",
    "    return None\n",
    "\n",
    "cook_pipeline = pipeline(\n",
    "    [\n",
    "        node(func=defrost,inputs='frozen_veg',outputs='veg'),\n",
    "        node(func=grill,inputs='veg',outputs='grilled_veg')\n",
    "    ])\n",
    "meal_pipeline = pipeline([node(func=eat,inputs='food',outputs=None)])\n",
    "#consolidated = cook_pipeline + meal_pipeline\n",
    "#*************************combine broken pipelines****************\n",
    "pre_pipeline = pipeline(pipe=cook_pipeline,outputs={'grilled_veg':'food'})\n",
    "consolidated = pre_pipeline + meal_pipeline\n",
    "print(consolidated.describe())"
   ]
  },
  {
   "cell_type": "markdown",
   "id": "323d7143",
   "metadata": {},
   "source": [
    "### End !!!"
   ]
  }
 ],
 "metadata": {
  "kernelspec": {
   "display_name": "Python 3 (ipykernel)",
   "language": "python",
   "name": "python3"
  },
  "language_info": {
   "codemirror_mode": {
    "name": "ipython",
    "version": 3
   },
   "file_extension": ".py",
   "mimetype": "text/x-python",
   "name": "python",
   "nbconvert_exporter": "python",
   "pygments_lexer": "ipython3",
   "version": "3.9.7"
  }
 },
 "nbformat": 4,
 "nbformat_minor": 5
}
